{
 "cells": [
  {
   "cell_type": "markdown",
   "metadata": {},
   "source": [
    "# Kata 5\n",
    "\n",
    "## Ejercicio 1"
   ]
  },
  {
   "cell_type": "code",
   "execution_count": 1,
   "metadata": {},
   "outputs": [
    {
     "name": "stdout",
     "output_type": "stream",
     "text": [
      "628949330\n",
      "390577534\n"
     ]
    }
   ],
   "source": [
    "from math import ceil\n",
    "\n",
    "earth = 149597870\n",
    "jupiter = 778547200\n",
    "\n",
    "distance = jupiter - earth\n",
    "miles = ceil(distance * 0.621)\n",
    "\n",
    "print(distance)\n",
    "print(miles)"
   ]
  },
  {
   "cell_type": "markdown",
   "metadata": {},
   "source": [
    "## Ejercicio 2"
   ]
  },
  {
   "cell_type": "code",
   "execution_count": 2,
   "metadata": {},
   "outputs": [
    {
     "name": "stdout",
     "output_type": "stream",
     "text": [
      "629000000\n",
      "390609000\n"
     ]
    }
   ],
   "source": [
    "from math import ceil\n",
    "\n",
    "sun_distance_1 = int(input(\"¿Cual es la distancia que se tiene del planeta 1 al sol? (km): \"))\n",
    "sun_distance_2 = int(input(\"¿Cual es la distancia que se tiene del planeta 2 al sol? (km): \"))\n",
    "\n",
    "total = abs(sun_distance_1 - sun_distance_2)\n",
    "miles = ceil(total * 0.621)\n",
    "\n",
    "print(total)\n",
    "print(miles)"
   ]
  }
 ],
 "metadata": {
  "interpreter": {
   "hash": "916dbcbb3f70747c44a77c7bcd40155683ae19c65e1c03b4aa3499c5328201f1"
  },
  "kernelspec": {
   "display_name": "Python 3.9.7 64-bit",
   "language": "python",
   "name": "python3"
  },
  "language_info": {
   "codemirror_mode": {
    "name": "ipython",
    "version": 3
   },
   "file_extension": ".py",
   "mimetype": "text/x-python",
   "name": "python",
   "nbconvert_exporter": "python",
   "pygments_lexer": "ipython3",
   "version": "3.9.7"
  },
  "orig_nbformat": 4
 },
 "nbformat": 4,
 "nbformat_minor": 2
}
